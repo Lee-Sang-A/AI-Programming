{
  "nbformat": 4,
  "nbformat_minor": 0,
  "metadata": {
    "colab": {
      "provenance": [],
      "authorship_tag": "ABX9TyPDyc79frHF3qqqbwN93fko",
      "include_colab_link": true
    },
    "kernelspec": {
      "name": "python3",
      "display_name": "Python 3"
    },
    "language_info": {
      "name": "python"
    }
  },
  "cells": [
    {
      "cell_type": "markdown",
      "metadata": {
        "id": "view-in-github",
        "colab_type": "text"
      },
      "source": [
        "<a href=\"https://colab.research.google.com/github/Lee-Sang-A/AI-Programming/blob/main/%EC%9D%B8%EA%B3%B5%EC%A7%80%EB%8A%A5%ED%94%84%EB%A1%9C%EA%B7%B8%EB%9E%98%EB%B0%8D%204%EC%A3%BC%EC%B0%A8%20%EA%B3%BC%EC%A0%9C.ipynb\" target=\"_parent\"><img src=\"https://colab.research.google.com/assets/colab-badge.svg\" alt=\"Open In Colab\"/></a>"
      ]
    },
    {
      "cell_type": "code",
      "execution_count": 1,
      "metadata": {
        "colab": {
          "base_uri": "https://localhost:8080/"
        },
        "id": "ESUEUatiu_cF",
        "outputId": "e51ad7cc-597b-4153-80fd-4c05fbaee9b3"
      },
      "outputs": [
        {
          "output_type": "stream",
          "name": "stdout",
          "text": [
            "lotto_array =\n",
            " [[22  9 15 44 39 37]\n",
            " [ 7 31 24 40 11 16]\n",
            " [ 8  3 23 40 38 32]]\n"
          ]
        }
      ],
      "source": [
        "# 두번째 과제\n",
        "\n",
        "import numpy as np\n",
        "\n",
        "np.random.seed(85)\n",
        "\n",
        "results = []\n",
        "\n",
        "for _ in range(3):\n",
        "    a = np.arange(1, 46)\n",
        "    np.random.shuffle(a)\n",
        "    lotto = a[:6]\n",
        "    results.append(lotto)\n",
        "\n",
        "lotto_array = np.array(results)\n",
        "\n",
        "print('lotto_array =\\n', lotto_array)"
      ]
    },
    {
      "cell_type": "code",
      "source": [
        "# 세번째 과제\n",
        "\n",
        "import numpy as np\n",
        "\n",
        "# 1. shape가 (3, 3, 6)이고, 배열 원소가 0~20 사이의 정수값을 갖는 3차원 배열 생성\n",
        "shape_3d = (3, 3, 6)\n",
        "arr_3d = np.random.randint(0, 21, shape_3d)\n",
        "print(\"3차원 배열:\\n\", arr_3d)\n",
        "\n",
        "# 2. shape가 (5, 6)이고, 배열 원소가 0~100 사이의 정수값을 갖는 2차원 배열 생성\n",
        "shape_2d = (5, 6)\n",
        "arr_2d = np.random.randint(0, 101, shape_2d)\n",
        "print(\"2차원 배열:\\n\", arr_2d)"
      ],
      "metadata": {
        "colab": {
          "base_uri": "https://localhost:8080/"
        },
        "id": "8lBekkxdvBlT",
        "outputId": "fc5adc84-8f26-4233-ec2d-662f7b8955a7"
      },
      "execution_count": 2,
      "outputs": [
        {
          "output_type": "stream",
          "name": "stdout",
          "text": [
            "3차원 배열:\n",
            " [[[15  5  1 12 19 12]\n",
            "  [16  4 19 16 18 15]\n",
            "  [ 5  3 11  1 20  9]]\n",
            "\n",
            " [[ 5 10  8  5  8 17]\n",
            "  [ 4 17 14  2  0 18]\n",
            "  [15 20 15  8  9  8]]\n",
            "\n",
            " [[ 0 11  6  4  8  3]\n",
            "  [ 7  6 18  4  7  4]\n",
            "  [13  3 20  3  1  8]]]\n",
            "2차원 배열:\n",
            " [[51 41 43 88 80 72]\n",
            " [43 41 69 65 72 91]\n",
            " [89 89 26 13 59 24]\n",
            " [ 2 54 31 76 85 87]\n",
            " [46 25 48 95 24 50]]\n"
          ]
        }
      ]
    },
    {
      "cell_type": "code",
      "source": [
        "# 네번째 과제\n",
        "\n",
        "import numpy as np\n",
        "\n",
        "temp = np.arange(48)\n",
        "\n",
        "# 3차원 배열 (4, 3, 4)로 변형\n",
        "arr_3d_reshaped = temp.reshape(4, 3, 4)\n",
        "print(\"3차원 배열 (4, 3, 4):\\n\", arr_3d_reshaped)\n",
        "\n",
        "# 2차원 배열 (6, 8)로 변형\n",
        "arr_2d_reshaped = temp.reshape(6, 8)\n",
        "print(\"2차원 배열 (6, 8):\\n\", arr_2d_reshaped)"
      ],
      "metadata": {
        "colab": {
          "base_uri": "https://localhost:8080/"
        },
        "id": "2e9CrDVXvE7d",
        "outputId": "f9e37b95-5264-4b0d-df2b-c83c948b8e1a"
      },
      "execution_count": 3,
      "outputs": [
        {
          "output_type": "stream",
          "name": "stdout",
          "text": [
            "3차원 배열 (4, 3, 4):\n",
            " [[[ 0  1  2  3]\n",
            "  [ 4  5  6  7]\n",
            "  [ 8  9 10 11]]\n",
            "\n",
            " [[12 13 14 15]\n",
            "  [16 17 18 19]\n",
            "  [20 21 22 23]]\n",
            "\n",
            " [[24 25 26 27]\n",
            "  [28 29 30 31]\n",
            "  [32 33 34 35]]\n",
            "\n",
            " [[36 37 38 39]\n",
            "  [40 41 42 43]\n",
            "  [44 45 46 47]]]\n",
            "2차원 배열 (6, 8):\n",
            " [[ 0  1  2  3  4  5  6  7]\n",
            " [ 8  9 10 11 12 13 14 15]\n",
            " [16 17 18 19 20 21 22 23]\n",
            " [24 25 26 27 28 29 30 31]\n",
            " [32 33 34 35 36 37 38 39]\n",
            " [40 41 42 43 44 45 46 47]]\n"
          ]
        }
      ]
    },
    {
      "cell_type": "code",
      "source": [],
      "metadata": {
        "id": "MjoNlinbvHOM"
      },
      "execution_count": null,
      "outputs": []
    }
  ]
}